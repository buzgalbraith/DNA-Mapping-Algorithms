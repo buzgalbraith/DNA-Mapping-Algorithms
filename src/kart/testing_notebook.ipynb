{
 "cells": [
  {
   "cell_type": "code",
   "execution_count": 66,
   "id": "1b62f53d-31bd-4316-b9b9-0ea88decb86d",
   "metadata": {},
   "outputs": [],
   "source": [
    "%run kart-numpy.py"
   ]
  },
  {
   "cell_type": "code",
   "execution_count": 18,
   "id": "3eb922f8-95f1-4677-966d-9766a490d7e9",
   "metadata": {},
   "outputs": [],
   "source": [
    "%run bwa.py"
   ]
  },
  {
   "cell_type": "markdown",
   "id": "e23bd69d-3c6d-4dd0-9a95-695facc1b0e1",
   "metadata": {
    "jp-MarkdownHeadingCollapsed": true,
    "tags": []
   },
   "source": [
    "## Test(Past version)"
   ]
  },
  {
   "cell_type": "code",
   "execution_count": 45,
   "id": "e960b973-bfee-487a-a21f-e3a711e13328",
   "metadata": {
    "tags": []
   },
   "outputs": [],
   "source": [
    "with open(\"data/SRR11528307_SarsCov2.fna\", \"r\") as f:\n",
    "    ref = \"\".join([l.strip() for l in f.readlines()][1:-4])\n",
    "                            \n",
    "# TCCGGGACGCTCAGTAATGTGACGA GACGATAGCTGAAAAC\n",
    "read_1 = 'GTAATAAGACAGTAGGTGAGTTAGGTGATGTTAGAGTAAACAATGAGTTACTTGTTTCAACATGCCAATTTAGATTCTTGCAAAAGAGTCTTGAACGTGGTGTGTAAAACTTGTGGACAACAGCAGACAACCCTTAAGGGTGTAGAAG'"
   ]
  },
  {
   "cell_type": "code",
   "execution_count": 46,
   "id": "7651c92d-d979-4d30-b590-91d9b4dc61c9",
   "metadata": {},
   "outputs": [
    {
     "name": "stdout",
     "output_type": "stream",
     "text": [
      "29600\n",
      "148\n"
     ]
    }
   ],
   "source": [
    "print(len(ref))\n",
    "print(len(read_1))\n",
    "# print(ref)"
   ]
  },
  {
   "cell_type": "code",
   "execution_count": 47,
   "id": "c6cc098b-b5bb-4aae-8795-bf9706d7d097",
   "metadata": {},
   "outputs": [
    {
     "data": {
      "text/plain": [
       "[]"
      ]
     },
     "execution_count": 47,
     "metadata": {},
     "output_type": "execute_result"
    }
   ],
   "source": [
    "bwa_run(read_1, ref, tolerance=0)"
   ]
  },
  {
   "cell_type": "code",
   "execution_count": 48,
   "id": "90c5ab5a-9a71-45fd-b93b-f8a8107d7cbb",
   "metadata": {},
   "outputs": [
    {
     "name": "stdout",
     "output_type": "stream",
     "text": [
      "> Finding simple pairs (0.00%)\n",
      "> Finding simple pairs (24.32%)\n",
      "> Finding simple pairs (25.00%)\n",
      "> Finding simple pairs (100.00%)\n"
     ]
    }
   ],
   "source": [
    "A = LMEM_explore(read_1, ref, k=10, verbose=1)"
   ]
  },
  {
   "cell_type": "code",
   "execution_count": 49,
   "id": "44334ef8-bfe6-4b77-82ec-a60a8326a178",
   "metadata": {},
   "outputs": [
    {
     "name": "stdout",
     "output_type": "stream",
     "text": [
      "[[[0, 35, 5269, 5304, 36], [37, 147, 5305, 5415, 111]]]\n",
      "Clustered:\n",
      "[[0, 35, 5269, 5304, 36], [36, 36, -1, -1], [37, 147, 5305, 5415, 111]]\n",
      "Candidate 1:\n",
      "Index:     5269                                                                                                                                                  5417\n",
      "Reference: GTAATAAGACAGTAGGTGAGTTAGGTGATGTTAGAG-AAACAATGAGTTACTTGTTTCAACATGCCAATTTAGATTCTTGCAAAAGAGTCTTGAACGTGGTGTGTAAAACTTGTGGACAACAGCAGACAACCCTTAAGGGTGTAGAAG\n",
      "Read:      GTAATAAGACAGTAGGTGAGTTAGGTGATGTTAGAGTAAACAATGAGTTACTTGTTTCAACATGCCAATTTAGATTCTTGCAAAAGAGTCTTGAACGTGGTGTGTAAAACTTGTGGACAACAGCAGACAACCCTTAAGGGTGTAGAAG\n",
      "Aligned:   ************************************ ***************************************************************************************************************\n",
      "\n"
     ]
    }
   ],
   "source": [
    "clustered_A = form_cluster(A, g=10)\n",
    "print(clustered_A)\n",
    "clustered_A = form_candidate_regions(clustered_A)\n",
    "print(\"Clustered:\")\n",
    "for i in clustered_A:\n",
    "    print(i)\n",
    "pprint_align(clustered_A, read_1, ref)"
   ]
  },
  {
   "cell_type": "markdown",
   "id": "40858452-7ec6-42c3-b789-c7637863a5aa",
   "metadata": {},
   "source": [
    "# Test (full version)"
   ]
  },
  {
   "cell_type": "code",
   "execution_count": 19,
   "id": "d15fc344-10d4-4af1-be48-d564897f3265",
   "metadata": {},
   "outputs": [
    {
     "name": "stdout",
     "output_type": "stream",
     "text": [
      "ATGTCACAGCGTCCTAGATGGTGTCCA\n",
      "--read\n",
      "[]\n",
      "TCACGACATTGGTAACCCTAAAGCTATTAAGTGTGTACCTCAAG\n",
      "--read\n",
      "[18877]\n",
      "AATCAAAAAGAGTTGATTTTTGTGGAAAGGG\n",
      "--read\n",
      "[24520]\n",
      "CCATTCTACATCAGCTTGAGGTACACACTTAATAGCTTTAGGGTTACCAATGTCGTGAAGAACTGGGAATTTGTCTGCTAATAATGCAGCTTTAACAACCATGTGTTGAACCTTTCTACAAGCCGCATTAAT\n",
      "--read\n",
      "[]\n",
      "TGTATCACAATTAACACAATTCCAATTGTGTA\n",
      "--read\n",
      "[]\n"
     ]
    }
   ],
   "source": [
    "bwa(ref_path,read_path, num_reads=5)"
   ]
  },
  {
   "cell_type": "code",
   "execution_count": 37,
   "id": "bc04aeec-f582-4953-a1c7-b7a384ff27f6",
   "metadata": {},
   "outputs": [],
   "source": [
    "reads = []"
   ]
  },
  {
   "cell_type": "code",
   "execution_count": 44,
   "id": "00e35246-6a37-4b5f-8a1e-febb8bd32d4f",
   "metadata": {
    "collapsed": true,
    "jupyter": {
     "outputs_hidden": true
    },
    "tags": []
   },
   "outputs": [
    {
     "name": "stdout",
     "output_type": "stream",
     "text": [
      "original: ACCAAAGCACTCACAGTGTCAACAATTTCAGCAGGACAACGCCGACAAGTTCCGAGGAACATGTCTGGACCTATAGTTTTCATAAGTCTACACACTGAATTGAAATATTCTGGTTCTAGTGTGCCCTTAG\n",
      "original: TGTCATGATGGAAAAGCACACTTTCCTCGTGAAGGTGTCTTTGTTTCAAATGGCACACACTGGTTTGTAACACAAAGGAA\n",
      "altered: TATCATGATGGAAAAGACACTTTCCTCGTGAAGGTGTCTTTGTTTCAAATGGCACACACTGGTTTGTATCACAAAGAA\n",
      "original: AGAGCCTAAAAAGGACAAAAAGAAGAAGGCTGATGAAACT\n",
      "altered: AGAGCCTAAAAAAGACAAAAAAGAAGGCTGATGAAACA\n",
      "original: TTTAATACCCTTATATTTACGCTGTATAGTTGAAACTATGGCTTTAGTTTCCACACAGACAGGCA\n",
      "original: CTCGTTCCTCATCACGTAGTCGCAACAGTTCAAGAAATTCAACTCCAGGCAGCAGTAGGGGAACTTCTC\n",
      "altered: CTCGTTCCTCATCACGTATCGCAACAGTTCAATAATTCAACTCCAGGCAACAGTAGGGGAACTTCTC\n",
      "original: AAGTGGTCCATTAGTAGCTATGTAATCATCAGATTCAACTTGCATGGCATTGTTAGTAGCCTTATTTAAGGCTCCTGCAACACCTCCTCCAT\n",
      "original: GCCGCAACACAGGCGAACTCATTTACTTCTGTACCGAGTTCAACTGTATAGGCAGAGCACCTCTCATTAA\n",
      "original: CTCATTCAAGGAGGAGTTAGATAAATATTTTAAGAATCATACATCACCAGATGTTGATTTAGGTGACATCTCTGGC\n",
      "altered: CTCATTCAAGGATGAGTAGATAAATATTTTAGAATCATACATCACCAGATGTTGATTTAGGTGACATCTCTGGC\n",
      "original: AAAATTCAAGACTCACTTTCTTCCACAGCAA\n",
      "altered: AAAATTCAAGACTCACTTTCTCACAGCTA\n",
      "original: TTGTAGCACGATTGCAGCATTGTTAGCAGGATTGCGGGTGCCAATGTGATCTTTTGGTGTATTCAGGGCTCCCTCAG\n",
      "original: ATTATGAGGTTTATGATGTAATCAAGATTCCAAATGGAAACTTTAAAAGTCCTCATAATAATTAGTAATATCTCTGCTATAGTAACCTGAAAGTCAACGAGATGA\n",
      "original: TGATTCAACTGAATGCAGCAATCTTTTGTTGCAATATGGCAGTTTTTGTACACAATTAAACCGTGCTTTAACTGGAATAGCTGTTGAACAAGACAAAAACACCCAA\n",
      "altered: TGATTCAACTGAAGCAGCAATCTTTGTAGCAATATGGCAGTTTTTGTACACAATTAAACCGTGCTTTAACTGGAATAGCTGTTGAACAAGACAAAATCACCCAA\n",
      "original: ATCTTTATGCTTTAGTCTACTTCTTGCAGAGTATAAACTTTGTAAGAATAA\n",
      "altered: ATCTTATGCTTTAGACTAATTCTTGCAGAGTTAAACTTTGTAAGAATAA\n",
      "original: GTATCTACTAGTGGTAGATGGGTACTTAACAATGATTATTACAGATCTTTACCAGGAGTTTTCTGTGGTGTAGATGCTGTAAATTTACTTACTAATATGTTTA\n",
      "altered: GTATCTACTAGTGGTAGATGGGTACTTAACAATGTTATTACAGAACTTTACCAGGAATTTTCTGTGGTGTAGATGCTGTAAATTTACTTACTAATAGTTTA\n",
      "original: ATAATAAGTACAAGTATTTTAGTGGAGCAAT\n",
      "altered: ATAAAAGTACAAGTTTTTTAGAGGAGCAT\n",
      "original: CTGATGTTGCAACTAGTGTTTTGAGTTTTTCCATTGGTACGTTAA\n",
      "original: AAAGTGAATTCAACATTAGAACAGTATGTCTTTTGTACTGTAAATGCATTGCCTGAGACGACAGCAGATATAGTTGTCTTTGATGAAATTTCAATGGCCACAAATTATGATTTGAGTG\n",
      "altered: AAAGTATATTCAACATTAGAAAGTATGTCTTTTGTACTGTAAATGCATTGCCTGAGACGACAGCAGATATAGTTGTTTTGATGAAATTTCAATGGCCACAAATTATGATTTGAGTG\n",
      "original: TTTGCCCCCAGCGCTTCAGCGTTCTTCGGAATGTCGCGCATTGGCATGGAAGTCACACCTTCGGGAACGTGGTTGACCTACACAGGTGCCATCAAATTGGATGACAAAGATCCAA\n",
      "altered: TTTGCACCCAGCGCTTCAGCGTTCTTCGGAATGTCGCGCATTGCATGGAAGTCACACCTTCGGGAACGTGGATGACCTACACAGTGCCATCAAATTGGATGACAAAGATCCAA\n",
      "original: CGGCAATTTTGTTACCATCAGTAGATAAAAGTGC\n",
      "original: GGTTTGGATTATAAAGCATTCAAACAAATTGTTGAATCCTGTGGTAATTTTAAAGTTACAAAAGGAAAAGCTAAAAAAGGTGCCTGGAATATTGGTGAACAGAAATCAATACTGAGTCCT\n",
      "altered: GGTTTGGATTATAATGCTTCAAACAAATTGTTGAATCCTGTGGTAATTTTAAAATTACAAAAGGAAAAGCTAAAAAAGGTGCCTGAATATTGGTGAACAGAAATCAATACTGAGTCCT\n",
      "original: AAATGATATAAGCAATTGTTATCCAGAAAGGTACTAAAGGTGTGAACATAACCATCCACTGAATATGTGCTAAAAAAGAAACATCATT\n",
      "original: TCTATATCTGACACTACTTGTTTTCCATGAGACTCACATGGACTGTCAGAGTAATAGAAAAATGGTAATTGTTTTAAATTAACAAAAGCACTTTTATCAAAAGCTGGTGTGTGGAATGCATGTTTATTTACATACAAACTGCCACC\n",
      "original: CACTTTTATCTACTGATGGTAACAAAATTGCCGATAAGTATGTCCGCAATTTACA\n",
      "altered: CTCTTTATCTACTGAGGTAACAAAATTGCCGATAAGTATGTACGCAATTTACA\n",
      "original: GAAGCTAAAAAGGTAAAACCAACAGTGGTTGTTAATGCAGCCAATGTTTACCTTAAACATGGAGGAGGTGT\n",
      "altered: GAAGCTATAAAGGTAAAACCACAGTGGTTGTTATTGCAGCCAATGTTTACCTTAAACATGAGGAGGTGT\n",
      "original: TTGTGGCTTAGTAGAAGTTGAAAAAGGCGTTTTGCCTCAACTTGAACAGCCCTATGTGTTCATCAAACGTTCGGATGCTCGAACTGCACCTCATGGTCATGTTATGGTTGA\n",
      "altered: TTGTGGCTTAGTAGAAGTTGAAAAAGGCGTTTTACTCAACTTGAACAGCCCTATGGTTCATCAAACGTTCGGATGCTCGAACAGCACCTCATGGTCATGTTATGGTTGA\n",
      "original: TCTAACATCACCTAACTCACCTACTGTCTTATTACAGTAGGCTAAGA\n",
      "original: CACAGCAAGTGCACTTGGAAAACTTCAAGATGTGGTCAACCAAAATG\n",
      "altered: CACGCAAGTGCACTTGGAAATCTTCAAGATGTGGTCAAAAAAATG\n",
      "original: TAAACTTAAAGCCTTGAATTTAGGTGAAACATTTGTCACGCACTCAAAGGGATTGTACAGAAAGTGTGTTAAATCCAGAGAAGAAACTGGCCTACTCATGCCTCTAAAAGCCCCAAAAGAAATTATCTTCTTAG\n",
      "altered: TAAACTTAAAGACTTGAATTTAGGTGAAACATTTGTCACGCACTCATAGGGATTGTCAGAAAGTGTGTTAAATCCAGAGAAGAAACTGGCCTACTCATGCCTTAAAAGCCCCAAAAGAAATTATCTTCTTAG\n",
      "original: ATAATATGAGAGTTATACATTTTGGTGCTGGTTCTGATAAAGGAGTTGCACCAGGTACAGCTGTTTTAAGACAGTGGTTGCCTACGGGTACGCTGCTTGTCGATTCAGATCTTAATGACTTTGTCTCTGATGCAGATTCAA\n",
      "altered: TTAATATGAGAGTTATACATTTTGGTGCTGGTTCTGATAAAGGAGTTGCACCAGGTACAGCTGTTTTAAGACAGTGGTTGCATACGGGTAGCTGCTTGTCGATTCGATCTTAATGACTTTGTCTCTGATGCAGATTCAA\n",
      "original: ATTAGACTTACGAATGAGTAAATCTTCATAATTAGGGTTAAGCATGTCTTCAGAGGTGCAGATCACAT\n",
      "original: CATATGGTTGATGTTGAGTACATGACTGTAAACTACATTCTTGGTGAAATGCAGCTACAGTTGTGAT\n",
      "original: GATGTTGGTGATAGTGCGGAAGTTGCAGTTAAAATGTTTGATGCTTACGTTAATACGTTTTCATCAACTTTTAACGTACCAATGGAAAAACTCAAAACACTAGTTGCAACT\n",
      "altered: GATGTTGGTGATAGTGCGGAAGTTGCAGTTAAAATGTTTGATGATTACTTAATACGTTTTCATCAACTTTTAACGTACCAATGGAAAACTCAATACACTAGTTGCAACT\n",
      "original: TTCAAGTGAAATCATAGGATACAAGGCTATTGATGGTGGTGTCACTCGTGACATAGCATCTACAGATACTTGTTTTGCTAACAAACATGCTGATTTTGACACATGGTTTAGCCAGCGT\n",
      "altered: TCAAGTGAAATCTTAGGATACAGGCTATTGATGGTGGTGTCACTCGTGACATTGCATCTACAGATACTTGTTTTGCTAACAAACATGCTGATTTTGACACATGGTTTAGCCAGCGT\n",
      "original: AAGAAACTAAGTTCCTCACAGAAAACTTGTTACTTTATATTGACATTAATGGCAATCTTCATCCAGATTCTGCCACTCTTGTTAGTGACATTGAC\n",
      "altered: AAGAAACTAAGTTCCACACAGAAAACTTGTTACTTTATAATGACATAATGGCAATCTTCATCCAGATTCTGCCACTCTTGTTAGTGACATTGC\n",
      "original: CATGACAGTTGTAACTACACCTGAGTAGTTAGAAGTAACAGAGATTATAAGAGCCCACATGGAAATGGCTTGATCTAAAGCATTACCATAATAAACTTTATAAACGAGTGTCAAGACATTCATAAGTGT\n",
      "original: TTGTTTGAATGCTTTATAATCCAAACCTTTCACAGTTTCCACAAAAGCACTTGTGGAAGCAGAAAAAGATGCCAAAATAATGGCGATCTCTTCATTAAGTTTAA\n",
      "original: CGTGCAGGCTGTTTAATAGGGGCTGAACATGTCAACAACTCATATGAGTGTGACATACCCAT\n",
      "altered: CGTGCGGCTGTTTAATAGGGGCTGAACATGACAACACTCATATGAGTGTGACTTACCCAT\n",
      "original: AAATAACGGTCAAAGAGTTTTAACCTCTCTTCCGTGAAGTCATATTTTAACAAATCCCACTTAATGTAAGGCTTTGTTAAGTCAGTGTCAACATGTGACT\n",
      "original: TGATGGATCTGGTAATATTTGTGAAAAATTAAAACCACCAAAATCTTTAATTGGTGGTGTTTTGT\n",
      "original: CTTTATGACAAGTTGCAATTTACAAGTCTTGAAATT\n",
      "altered: TTTATGACAGTAGCAATTTACAAGTCATGAAATT\n",
      "original: AACTTGTGGGTATTTCCACTTTTTAGTGTGATTTAATGCTGACATGTACCTACCCAGAAAACTAGGATCAGTTGTGTGGTAGTACTCAAAA\n",
      "original: TACAATGTACATTTGTGGTGATTCAACTGAATGCAGCAATCTTTTGTTGCAATATGGCAGTTTTTGT\n",
      "altered: TACATTGTACATTTGTGGTGATTCAACTGAATGCAGCAATCTTTTGTTGCATTTGGCGTTTTTGT\n",
      "original: AAGGATTGATAAAGTACTTAATGAGAGGTGC\n",
      "altered: AAGGATTGTAAAATACTTAATGAGTGTGC\n",
      "original: TTGGTGCTGGTTCTGATAAAGGAGTTGCACCAGGTACAGCTGTTTTAAGACAGTGGTTGCCTACGGGTACGCTGCTTGTCGATTCAGATCTTAATGACTTTGTCTCTGATGCAGATTCAA\n",
      "altered: TTGGTGCTGGTTCTGATAAAGGAGTTGCACCTGGTACAGCTGTTTTAAGACAGTGGTTGCCTACGGGTACGCGCTTGTCATTCAGATCTTAATGACTTTGTCTCTGATGCAGATTCAA\n",
      "original: CTACACTAGTGCCACAAGAGCACTATGTTAGAATTACTGGCTTATACCCAACACTCAATAT\n",
      "altered: CTAACTTGTGCCACAAGAGCACTATGTTAAATTACTGGCTTATACCCAACACACAATAT\n",
      "original: TCATGATTGCATCACAACTAGCTACATGTGCATTACCATGGACTTGACAATACAGATCATGGT\n",
      "original: ACTTAAATGGTGATGTGGTGGCTATTGATTATAAACACTACACACCCTCTTTTAAGAAAGGAGTTAAATTGTTACATAAACCTATTGTTTGGCATGTTAACAATGCAACTAATAAA\n",
      "original: ACCTAATTTAGCATGGCCTCTTATTGTAACAGCTTTAAGGGCCAATTCTGCTGTCAAATTACAGAATAATGAGCTTA\n",
      "altered: ACCTATTTTACATGGCCTCATATTGTAACAGCTTTAAGGGCCAATTCTGCTGTCAATTACAGAATAATGAGCTTA\n",
      "original: GAAATTCCACGTAGGAATGTGGCAACTTTACAAGCTGAAAATGTAACAGGACTCTTTAAAGATTGTAGTAAGGTAATCACTGGGTTACATCCTAC\n",
      "altered: GAAATTCCACTAGGAATGTGGCAACTTTACAAGCTGAAAATGTAACAGGACTCTTTAAAGATTGTAGTAAGGAATCACTGGGTTTCATCCTAC\n",
      "original: AGGTGCTCTGCCTATACAGTTGAACTCGGTACAGAAGTAAATGAGTTCGCCTGTGTTGTGGCAGATGCTGTCATAAAAACTTTGCAACCAGTATCTGAATTACTTACACCACTGGGCATTGATTTAGATGAGTGGAGTATGGCTAC\n",
      "altered: AGGTGATCTGCCTATACAGTTGAACTCGGTACGAAGTAAATGAGTTCGCCTGTGTTGTGGCAGATGCTGTCAAAAAACTTTGCAACCAGTATCTAAATTACTTACACCACTGGGCATTGATTTAGATGAGTGGAGTATGGCTAC\n",
      "original: AAGCTAAAAAGGTAAAACCAACAGTGGTTGTTAATGCAGCCAATGTTTACCTTAAACATGGAGGAGGTGT\n",
      "altered: AAGCTAAAAAGGTAAACCAAAAGTGGTTGTTAATGCAACCAATGTTTCCTTAAACATGGAGGAGGTGT\n",
      "original: AATACTGCGTCTTGGTTCACCGCTCTCACTCAACATGGCAAGGAAGACCTTAAATTCCCTCGAGGACAAGGCGTTCCAATTAACACCAATAGCAGTCCAGATGACCAAATTGGCTACTACCGAAGAGCTACCAGACGAATTCGT\n",
      "altered: ATACTGCATCTTGGTTCACCGCTCTCACTCAACATGGCAAGGAAGACCTTAAATTCCCTCGAGGACAAGGCGTTCCAATTAACACCAATGCAATCCAGATGACCAAATTGGCTACTACCGAAGAGCTACCAGACGAATTCGT\n",
      "original: CCTCTAAGAAGATAATTTCTTTTGGGGCTTTTAGAGGCATGAGTAGGCCAGTTTCTTCTCTGGATTTAACACAC\n",
      "original: TACAAAATTTGGACATTCCCCATTGAAGGTGTCAAATTTCTTTGCCAATTTAATTTCAAAAGGTGTCTGCAATTCATAGCTCTTTTCAGAACGTT\n",
      "original: AAGACTGTGTTGTATTACACAGTTACTTCACTTCAGACTATTACCAGCTGTACTCAACTC\n",
      "altered: TGACTGTGTTGTAATCACAGTTACTTCACTTCAGACTATTACCAGCTGTACTCAACTC\n",
      "original: GCGAACAAACTTATACTTAGGTGTCTTAGGATTGGCTGTATCAACCTTAAGCTTAAGTACA\n",
      "original: TCTGCTATAGTAACCTGAAAGTCAACGAGA\n",
      "original: AATCTATACAGGTAATTATAATTACCACCAACCTTAGAATCAAGA\n",
      "original: TTATGGCCAGTAACTTTAGCTTGTTTTGTGCTTGCTGCTGTTTACAGAATAAATTGGATCACCGGTGGAATTGCTATCGCAATGGCTTGTCTTGTAGG\n",
      "altered: TTATGGCCAGTAACTTTAGCTTGTTTTGTGCTTGCTGCTGTTTACAGAATAAATTAGATCACCGGTGGATTGCTTTCGCATGGCTTGTCTTGTAGG\n",
      "original: TCAGACAAGGAACTGATTACAAACATTGGCCGCAAAT\n",
      "altered: TCAACAAGAACTGATAACAAACATTGGCAGCAAAT\n",
      "original: GTTTCTTTTTTAGCACATATTCAGTGGATGGTTATGTTCACACC\n",
      "altered: GTTTCTTTTTAGCACTTATTAATGGATGGTTATGTTCACACC\n",
      "original: CAGCACTGCTCATGGATTGTTGCAATTGTTTGGAGAAATCATCCAAAT\n",
      "original: GTTGACATACCTGGCATACCTAAGGACATGACCTATAGAAGACTCATCTCTATGATGGGTTTTAAAATGAATTATCAAGTTAAT\n",
      "altered: GTTGACATACCTAGCATACCTAAGACATGACCTATAGAAGACTCATCTCTATGATGGGTTTTAAAATGAATTATAAAGTTAT\n",
      "original: AGTCGCAACAGTTCAAGAAATTCAACTCCAGGCAGCAGTAGGGGAACTTCTCCTGCTAGAATGGCTGGCAATGGCGGTGATGCTGCTCTTGCTTTGCTGCTGCTTGACAGATTGAACCAGCTTGAGAGCAAAATGTCTGGTAAAG\n",
      "altered: AGTCGCAACAGTTCAAGAAATTCAACTCCAGGCAGCAGTAGGGAACTTATCCTGCTAGAATGGCTGGCAATGGCGGTGAAGCTGCTCTTGCTTTGCGCTGCTTGACAGATTGAACCAGCTTGAGAGCAAAATGTCTGGTAAAG\n",
      "original: AGTTTATTATGGTAATGCTTTAGATCAAGCCATTTCCATGTGGGCTCTTATAATCTCTGTTACTTCTAACTACTCAGGTGTAGTTACAACTGTCATGTTT\n",
      "altered: AGTTTATTATGGTAATGCTTTAGATCAAGCCATTTCCATGTGGGCTCATATAATCTATGTTACTTCTAACTATCAGGTGTAGTTACACTGTCATGTTT\n",
      "original: ATGACTAGGTGTCTAGCTGTCCACGAGTGCTTTGTTAAGCGTGTTGACTGGACTATTGAATATCCTATAAT\n",
      "altered: ATGACTAGGGTCTAGTGTCCACGAGTACTTTGATAAGCGTGTTGACTGGACTATTGAATATCCTATAAT\n",
      "original: TACCTGGTGTATACGTTGTCTTTGGAGCACAAAACCAGTTGAAACATCAAATTCGTTTGATGTACTGAAGTCAGAGG\n",
      "altered: TACCTGTGTATACGTAGTCATTGGAGCACAAAACCAGTTGAAACATCAATTCGTTTGATGTACTGAAGTCAGAGG\n",
      "original: ATGAAAGGATTGATAAAGTACTTAATGAGAGGTGCTCTGCCTATAC\n",
      "altered: ATGTAAGGAATGATAAAGTACTATGAGAGGTGCTCTGCCTATAC\n",
      "original: CACGAGGAAAGTGTGCTTTTCCATCATGACAAATGGCAGGAGC\n",
      "original: GCTGTCTTTGATAAAAATCTCTATGACAAACTTGTTTCAAGCTTTTTGGAAATGA\n",
      "altered: GTGTCTTTGTTAAAAATCTCTATGACAAACTTATTTCAGCTTTTTGGAAATGA\n",
      "original: ATGTTTAGTAAGTGGGTAAGCATCTATAGCTAAAGACA\n",
      "original: AATCTTCATAATTAGGGTTAAGCATGTCTTCAGAGGTGCAGATCACATGTCTTGGACAGTAAACT\n",
      "original: CCCAGAGACATGTATAGCATGGAACCAAGTAACATTGGAAAAGAAAGGTAAGAACAAGTCGTGAGTTGAATGTAAAACTGAGGATCTGAAAACTTTGTCAGGGTAATAAACACCACGTGTGAAAGAATTA\n",
      "original: AAAGTGCCAACAGACAATTATATAACCACTTACCCGGGTCAGGGTTTAAATGGTTACACTGTAGAGGAGGCAAAGACAGTGCTTAAAAAGTGTA\n",
      "altered: AAAGTGCCAACAGACAATTATATAACCACTTACCCGGGTAAGGGTTTAAATGGTTACACTGAGAGGAGGCAAAGAAAGTGCTTAAAAATGTA\n",
      "original: ATCGGCAATTTTGTTACCATCAGTAGATAAAAG\n",
      "original: ATTCTTATTATTCATTGTTAATGCCTATATTAACCTTGA\n",
      "altered: ATTTTTTTTTCATTGTTAATGCCTATATTAACCTTGA\n",
      "original: GCACTACCCAATATGGTACGTCCATTCATACCATTTTGCAGTAATTCTTTTAATGAAGCACACATATCTAAAACGGCAATTCCAGTTTGAGCAGAAAGAGGTCCTAGTAT\n",
      "original: TAATGGTGTTTCCTTTAGTACTTTTGAAGAAGCTGCGCT\n",
      "altered: TAATGGTGTATCCTTTAGTCTTTGAAGAAGCAGCGCT\n",
      "original: ATTATCAGACATTTTAGTTTGTTCGTTTAGATGAAATCTAAAACAACACGA\n"
     ]
    }
   ],
   "source": [
    "read_path = r'data/SRR11528307_R1.fastq'\n",
    "ref_path = r'data/SRR11528307_SarsCov2.fna'\n",
    "\n",
    "raw_reads = get_n_reads(read_path, num_reads=100)\n",
    "ref = get_ref(ref_path)\n",
    "\n",
    "DELETE = 2\n",
    "PERTURB = 2\n",
    "\n",
    "for r in raw_reads:\n",
    "    if len(r) < 30:\n",
    "        continue\n",
    "    \n",
    "    print(\"original:\", r)\n",
    "    if len(bwa_run(r, ref)) != 0:\n",
    "        for _ in range(DELETE):\n",
    "            idx = random.randint(0, len(r)-1)\n",
    "            r = list(r)\n",
    "            del r[idx]\n",
    "            r = \"\".join(r)\n",
    "        for _ in range(PERTURB):\n",
    "            idx = random.randint(0, len(r)-1)\n",
    "            r = list(r)\n",
    "            r[idx] = \"A\" if r[idx] != \"A\" else \"T\"\n",
    "            r = \"\".join(r)\n",
    "        print(\"altered:\", r)\n",
    "        reads.append(r)"
   ]
  },
  {
   "cell_type": "code",
   "execution_count": 46,
   "id": "0cd21f48-f505-44f6-9766-81e43d83ee40",
   "metadata": {},
   "outputs": [],
   "source": [
    "reads = reads[:100]"
   ]
  },
  {
   "cell_type": "code",
   "execution_count": 47,
   "id": "cc3278ea-3cb5-4e02-8a41-819b343420ee",
   "metadata": {},
   "outputs": [
    {
     "data": {
      "text/plain": [
       "100"
      ]
     },
     "execution_count": 47,
     "metadata": {},
     "output_type": "execute_result"
    }
   ],
   "source": [
    "len(reads)"
   ]
  },
  {
   "cell_type": "code",
   "execution_count": 48,
   "id": "72a89e02-f932-4c13-81bd-80c09211528f",
   "metadata": {},
   "outputs": [],
   "source": [
    "import pickle\n",
    "with open(\"100_reads_perturbed.pt\", \"wb\") as f:\n",
    "    pickle.dump(reads, f)"
   ]
  },
  {
   "cell_type": "code",
   "execution_count": 50,
   "id": "5a823c1c-7d52-4b20-889b-52070a7a16bd",
   "metadata": {},
   "outputs": [],
   "source": [
    "with open(\"100_reads_perturbed.pt\", \"rb\") as f:    \n",
    "    reads = pickle.load(f)"
   ]
  },
  {
   "cell_type": "code",
   "execution_count": 78,
   "id": "c3fc0fc5-d251-422e-b85b-edbbd35732fd",
   "metadata": {},
   "outputs": [],
   "source": [
    "%run kart.py"
   ]
  },
  {
   "cell_type": "code",
   "execution_count": 81,
   "id": "45adb71a-ff5f-4e9d-b6c1-0d754b5150dc",
   "metadata": {},
   "outputs": [],
   "source": [
    "%run kart_numpy.py"
   ]
  },
  {
   "cell_type": "code",
   "execution_count": 100,
   "id": "908f6721-dc7f-4e57-b8d9-64ebe4bd4522",
   "metadata": {},
   "outputs": [],
   "source": [
    "%run kart_multiprocessing.py"
   ]
  },
  {
   "cell_type": "code",
   "execution_count": null,
   "id": "c5605234-c598-40ca-a413-4fa9717a3239",
   "metadata": {
    "tags": []
   },
   "outputs": [],
   "source": [
    "import time\n",
    "\n",
    "start = time.time()\n",
    "kart_exp(reads, ref_path, k=10, g=10, num_reads=1, verbose=0)\n",
    "end = time.time()\n",
    "print(\"Time spent:\", end-start)\n",
    "\n",
    "start = time.time()\n",
    "kart_exp(reads, ref_path, k=10, g=10, num_reads=5, verbose=0)\n",
    "end = time.time()\n",
    "print(\"Time spent:\", end-start)\n",
    "\n",
    "start = time.time()\n",
    "kart_exp(reads, ref_path, k=10, g=10, num_reads=10, verbose=0)\n",
    "end = time.time()\n",
    "print(\"Time spent:\", end-start)\n",
    "\n",
    "start = time.time()\n",
    "kart_exp(reads, ref_path, k=10, g=10, num_reads=20, verbose=0)\n",
    "end = time.time()\n",
    "print(\"Time spent:\", end-start)"
   ]
  },
  {
   "cell_type": "markdown",
   "id": "a476bb6e-ffa0-423a-9f0f-a3d7133f3194",
   "metadata": {},
   "source": [
    "naive kart: 95.52167773246765, 558.2398657798767, 740.8427379131317, 2008.9000990390778\n",
    "\n",
    "numpy kart: 56.3682918548584, 435.8727900981903, 577.298269033432, 1334.874221086502\n",
    "\n",
    "multiprocessing_pool kart: 54.42660307884216, 276.7442009449005, 435.26404094696045, 699.4486169815063\n",
    "\n",
    "mpi4py kart: 43.1665472829466, 293.7563929448473, 430.35481786727905, 719.9554629325867"
   ]
  },
  {
   "cell_type": "code",
   "execution_count": 124,
   "id": "bb066368-8896-4f96-9dfa-28a43920fefb",
   "metadata": {},
   "outputs": [
    {
     "name": "stdout",
     "output_type": "stream",
     "text": [
      "Overwriting mpi_script.py\n"
     ]
    }
   ],
   "source": [
    "%%writefile mpi_script.py\n",
    "\n",
    "from kart_numpy_mpi import split_reads, LMEM_explore, form_cluster, form_candidate_regions, pprint_align, select_cr, assemble_genome\n",
    "from bwa import get_ref\n",
    "import random\n",
    "import pickle\n",
    "import time\n",
    "from mpi4py import MPI\n",
    "\n",
    "comm = MPI.COMM_WORLD\n",
    "num_workers = comm.Get_size()\n",
    "rank = comm.Get_rank()\n",
    "\n",
    "if rank==0:\n",
    "    with open(\"100_reads_perturbed.pt\", \"rb\") as f:    \n",
    "        reads = pickle.load(f)\n",
    "    start = time.time()\n",
    "    read_data = split_reads(reads[:20], num_workers) # TODO split_reads into sublists\n",
    "\n",
    "else:\n",
    "    read_data = None \n",
    "\n",
    "read_data_chunk = comm.scatter(read_data, root=0)\n",
    "\n",
    "ref = get_ref(r'data/SRR11528307_SarsCov2.fna')\n",
    "for read in read_data_chunk:\n",
    "    A = LMEM_explore(read, ref, k=10, verbose=0)\n",
    "    clustered_A = form_cluster(A, g=10)\n",
    "    crs = form_candidate_regions(clustered_A)\n",
    "    cr = select_cr(crs, read, ref)\n",
    "mapped_list = comm.gather(cr, root=0)\n",
    "\n",
    "if rank==0:\n",
    "    print(mapped_list)\n",
    "    end = time.time()\n",
    "    print(\"Time spent:\", end-start)"
   ]
  },
  {
   "cell_type": "code",
   "execution_count": 125,
   "id": "4ad7469c-1c72-4289-bc46-2fe281d4f142",
   "metadata": {},
   "outputs": [
    {
     "name": "stdout",
     "output_type": "stream",
     "text": [
      "[(25822, 25958), (14309, 14362), (19928, 20049), (11573, 11666), (19150, 19278), (27357, 27458), (9627, 9762), (8722, 8858), (19799, 19847), (16270, 16370)]\n",
      "Time spent: 719.9554629325867\n"
     ]
    }
   ],
   "source": [
    "!mpiexec -n 10 --oversubscribe python mpi_script.py "
   ]
  }
 ],
 "metadata": {
  "kernelspec": {
   "display_name": "Python(advpy)",
   "language": "python",
   "name": "advpy"
  },
  "language_info": {
   "codemirror_mode": {
    "name": "ipython",
    "version": 3
   },
   "file_extension": ".py",
   "mimetype": "text/x-python",
   "name": "python",
   "nbconvert_exporter": "python",
   "pygments_lexer": "ipython3",
   "version": "3.10.11"
  }
 },
 "nbformat": 4,
 "nbformat_minor": 5
}
